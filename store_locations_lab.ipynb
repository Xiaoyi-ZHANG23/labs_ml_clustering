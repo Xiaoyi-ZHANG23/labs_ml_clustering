{
 "cells": [
  {
   "cell_type": "markdown",
   "metadata": {},
   "source": [
    "# Lab: using clustering to find best store locations\n",
    "\n",
    "Imagine the following situation:<br>\n",
    "You own a pizza chain, and you collected data about pizza deliveries in a certain neighborhood. The data contains a coordinate of each delivery as a pair *(Latitude, Longitude)*. You do not have any stores in this neighborhood, and driving there each time is too expensive (especially with current gas prices). So you decide to open $K$ new stores in this area. The task is, based on the frequent delivery data, determine the best locations for the new stores.\n",
    "\n",
    "You need to perform the $K$-means clustering of delivery locations, and otput the best location for $K$ new stores. How would you choose the location of the store within each cluster that minimizes the overall distance between the store and each delivery address? __Explain your idea in a separate cell below.__"
   ]
  },
  {
   "cell_type": "markdown",
   "metadata": {},
   "source": [
    "The idea: the simplest idea is to find out all locations and if they are scattered, try clustering them into K clusters and put the store at the centroid of each clusters. If the clusters are chosen wisely, it should reduce the total distance needed. However, if we consider weight in mind, the customized code may not be adequate. It could possibly be fixed using sklearn.kmeans with weight in clustering. Although the weight are considered when trying to find the best location within the cluster in our custom code, the unweighted cluster may be inadequate. I am showing both custom code and ML kmeans method to find the best store locations, and the graphs should show the difference between the two methods. "
   ]
  },
  {
   "cell_type": "markdown",
   "metadata": {},
   "source": [
    "The data is 2-dimensional and it is easy to plot it to see if the locations of new stores make sense."
   ]
  },
  {
   "cell_type": "code",
   "execution_count": 2,
   "metadata": {},
   "outputs": [],
   "source": [
    "%matplotlib inline\n",
    "import matplotlib.pyplot as plt\n",
    "import seaborn as sns; sns.set()  # for plot styling\n",
    "import pandas as pd\n",
    "import numpy as np\n",
    "from sklearn.cluster import KMeans"
   ]
  },
  {
   "cell_type": "markdown",
   "metadata": {},
   "source": [
    "The data is a real data collected by [this person](https://github.com/angelddaz) while they were working as a pizza delivery driver. The file [pizza_delivery_locations.csv](https://drive.google.com/file/d/1tSpqC5sM7DegMil4D9U3DN9exYNATpiA/view?usp=sharing) is a projection of the original data and contains only *(Latitude, Longitude)* of each delivery address. Download the file and update the path below."
   ]
  },
  {
   "cell_type": "code",
   "execution_count": 3,
   "metadata": {},
   "outputs": [],
   "source": [
    "data_file = \"pizza_delivery_locations.csv\""
   ]
  },
  {
   "cell_type": "code",
   "execution_count": 4,
   "metadata": {},
   "outputs": [
    {
     "name": "stdout",
     "output_type": "stream",
     "text": [
      "Index(['Latitude', 'Longitude'], dtype='object')\n",
      "[[  43.666573 -116.263356]\n",
      " [  43.652722 -116.259743]\n",
      " [  43.624462 -116.21835 ]\n",
      " [  43.633857 -116.24628 ]\n",
      " [  43.672328 -116.286124]\n",
      " [  43.633105 -116.208304]\n",
      " [  43.723879 -116.255046]\n",
      " [  43.648076 -116.23413 ]\n",
      " [  43.659428 -116.231891]\n",
      " [  43.654203 -116.190788]]\n"
     ]
    }
   ],
   "source": [
    "\n",
    "data = pd.read_csv(data_file)\n",
    "store = data.copy()\n",
    "unique = data.copy()\n",
    "unique = unique.drop_duplicates()\n",
    "\n",
    "print(data.columns)\n",
    "len(data)\n",
    "\n",
    "# convert dataframe to a 2D numpy array - it is easier to work with it\n",
    "unique = unique.to_numpy()\n",
    "print(unique)\n",
    "data = data.to_numpy()"
   ]
  },
  {
   "cell_type": "markdown",
   "metadata": {},
   "source": [
    "## Task 1.\n",
    "\n",
    "Use $K$-means clustering algorithm to find the best locations for new pizza stores for $K$=2, $K$=3 and $K$=4. The answers should be represented as lists of *(Latitide,Longitude)* tuples for each value of $K$.\n",
    "\n",
    "You can use the custom code from the k-means demo, or you can use the `sklearn.KMeans` module to perform clustering."
   ]
  },
  {
   "cell_type": "code",
   "execution_count": 5,
   "metadata": {},
   "outputs": [],
   "source": [
    "\n",
    "from math import sqrt\n",
    "\n",
    "def manhattan(v1,v2):\n",
    "    res=0\n",
    "    dimensions=min(len(v1),len(v2))\n",
    "\n",
    "    for i in range(dimensions):\n",
    "        res+=abs(v1[i]-v2[i])\n",
    "\n",
    "    return res\n",
    "\n",
    "\n",
    "def euclidean(v1,v2):\n",
    "    res=0\n",
    "    dimensions=min(len(v1),len(v2))\n",
    "    for i in range(dimensions):\n",
    "        res+=pow(abs(v1[i]-v2[i]),2)\n",
    "\n",
    "    return sqrt(float(res))\n",
    "\n",
    "\n",
    "def cosine(v1,v2):\n",
    "    dotproduct=0\n",
    "    dimensions=min(len(v1),len(v2))\n",
    "\n",
    "    for i in range(dimensions):\n",
    "        dotproduct+=v1[i]*v2[i]\n",
    "\n",
    "    v1len=0\n",
    "    v2len=0\n",
    "    for i in range (dimensions):\n",
    "        v1len+=v1[i]*v1[i]\n",
    "        v2len+=v2[i]*v2[i]\n",
    "\n",
    "    v1len=sqrt(v1len)\n",
    "    v2len=sqrt(v2len)\n",
    "    \n",
    "    # we need distance here - \n",
    "    # we convert cosine similarity into distance\n",
    "    return 1.0-(float(dotproduct)/(v1len*v2len))\n",
    "  \n",
    "\n",
    "def pearson(v1,v2):\n",
    "    # Simple sums\n",
    "    sum1=sum(v1)\n",
    "    sum2=sum(v2)\n",
    "  \n",
    "    # Sums of the squares\n",
    "    sum1Sq=sum([pow(v,2) for v in v1])\n",
    "    sum2Sq=sum([pow(v,2) for v in v2])\n",
    "  \n",
    "    # Sum of the products\n",
    "    pSum=sum([v1[i]*v2[i] for i in range(min(len(v1),len(v2)))])\n",
    "  \n",
    "    # Calculate r (Pearson score)\n",
    "    numerator=pSum-(sum1*sum2/len(v1))\n",
    "    denominator=sqrt((sum1Sq-pow(sum1,2)/len(v1))*(sum2Sq-pow(sum2,2)/len(v1)))\n",
    "    if denominator==0: return 1.0\n",
    "    \n",
    "    # we need distance here - \n",
    "    # we convert pearson correlation into distance\n",
    "    return 1.0-numerator/denominator\n",
    "\n",
    "\n",
    "def tanimoto(v1,v2):\n",
    "    c1,c2,shared=0,0,0\n",
    "\n",
    "    for i in range(len(v1)):\n",
    "        if v1[i]!=0 or v2[i]!= 0:\n",
    "            if v1[i]!=0: c1+=1 # in v1\n",
    "            if v2[i]!=0: c2+=1 # in v2\n",
    "            if v1[i]!=0 and v2[i]!=0: shared+=1 # in both\n",
    "    \n",
    "    # we need distance here - \n",
    "    # we convert tanimoto similarity into distance\n",
    "    return 1.0-(float(shared)/(c1+c2-shared))\n",
    "import random\n",
    "\n",
    "# k-means clustering\n",
    "def kcluster(rows,distance=euclidean,k=4):\n",
    "    # Determine the minimum and maximum values for each point\n",
    "    ranges=[(min([row[i] for row in rows]),max([row[i] for row in rows]))\n",
    "    for i in range(len(rows[0]))]\n",
    "\n",
    "    # Create k randomly placed centroids\n",
    "    clusters=[[random.random()*(ranges[i][1]-ranges[i][0])+ranges[i][0]\n",
    "                            for i in range(len(rows[0]))] for j in range(k)]\n",
    "  \n",
    "    lastmatches=None\n",
    "    bestmatches = None\n",
    "\n",
    "    for t in range(100):\n",
    "        #print ('Iteration %d' % t)\n",
    "        bestmatches=[[] for i in range(k)]\n",
    "    \n",
    "        # Find which centroid is the closest for each row\n",
    "        for j in range(len(rows)):\n",
    "            row=rows[j]\n",
    "            bestmatch=0\n",
    "            for i in range(k):\n",
    "                d=distance(clusters[i],row)\n",
    "                if d<distance(clusters[bestmatch],row): bestmatch=i\n",
    "            bestmatches[bestmatch].append(j)\n",
    "\n",
    "        # If the results are the same as last time, this is complete\n",
    "        if bestmatches==lastmatches: break\n",
    "        lastmatches=bestmatches\n",
    "    \n",
    "        # Move the centroids to the average of the cluster members\n",
    "        for i in range(k):\n",
    "            avgs=[0.0]*len(rows[0])\n",
    "            if len(bestmatches[i])>0:\n",
    "                for rowid in bestmatches[i]:\n",
    "                    for m in range(len(rows[rowid])):\n",
    "                        avgs[m]+=rows[rowid][m]\n",
    "                for j in range(len(avgs)):\n",
    "                    avgs[j]/=len(bestmatches[i])\n",
    "                clusters[i]=avgs\n",
    "      \n",
    "    return bestmatches\n",
    "# clustering code for 2,3 and 4 clusters\n"
   ]
  },
  {
   "cell_type": "code",
   "execution_count": 6,
   "metadata": {},
   "outputs": [],
   "source": [
    "# Extracting best store locations for each cluster of addresses\n",
    "def custom():\n",
    "    Best_loc_lat = [[0 for j in range(4)] for i in range(3)]\n",
    "    Best_loc_long = [[0 for j in range(4)] for i in range(3)]\n",
    "    for K in range(2,5):\n",
    "        clust=kcluster(data,distance=manhattan,k=K)\n",
    "        for i in range(K):\n",
    "            location_list = clust[i]\n",
    "            count = 0\n",
    "            sum_lat = 0\n",
    "            sum_long = 0\n",
    "            for j in range(len(location_list)):\n",
    "                count = count+1\n",
    "                one_loc = location_list[j]\n",
    "                sum_lat += store['Latitude'].iloc[one_loc]\n",
    "                sum_long += store['Longitude'].iloc[one_loc]\n",
    "            if count != 0:\n",
    "                Lat = sum_lat/count\n",
    "                Long = sum_long/count\n",
    "            else:\n",
    "                Lat = 0\n",
    "                Long = 0\n",
    "                print(\"failed\")\n",
    "            Best_loc_lat[K-2][i] = Lat\n",
    "            Best_loc_long[K-2][i] = Long\n",
    "            #print(\"for cluster number\", K, \"the\",i+1,\"cluster's best location is\", (Lat,Long))  \n",
    "    return(Best_loc_lat, Best_loc_long)\n",
    "#return the clusters that I need from ML \n",
    "def ml_kmeans():\n",
    "    weight_list = []\n",
    "    for i in range(len(unique)):\n",
    "        lat = unique[i][0]\n",
    "        long = unique[i][1]\n",
    "        #get weight\n",
    "        weight = len(store[(store[\"Latitude\"]==lat) & (store[\"Longitude\"]==long)])\n",
    "        weight_list.append(weight)\n",
    "    result = []\n",
    "    for K in range(2,5):\n",
    "        kmeans = KMeans(n_clusters = K).fit(unique, sample_weight= weight_list)\n",
    "        result.append(kmeans.labels_)\n",
    "    return(result, weight_list)\n",
    "    "
   ]
  },
  {
   "cell_type": "markdown",
   "metadata": {},
   "source": [
    "## Task 2\n",
    "Visualize clusters by plotting each data point and coloring it with a different color corresponding to the cluster to which it belongs. Also plot the locations of new stores for each value of $K$. Some examples of the final visualizations are given below."
   ]
  },
  {
   "cell_type": "code",
   "execution_count": 13,
   "metadata": {},
   "outputs": [
    {
     "name": "stdout",
     "output_type": "stream",
     "text": [
      "For 2 clusters we have the following graph based on custom code\n"
     ]
    },
    {
     "data": {
      "image/png": "[encoded data removed]",
      "text/plain": [
       "<Figure size 432x288 with 1 Axes>"
      ]
     },
     "metadata": {},
     "output_type": "display_data"
    },
    {
     "name": "stdout",
     "output_type": "stream",
     "text": [
      "For 2 clusters we have the following graph based on weighted ML code\n"
     ]
    },
    {
     "data": {
      "image/png": "[encoded data removed]",
      "text/plain": [
       "<Figure size 432x288 with 1 Axes>"
      ]
     },
     "metadata": {},
     "output_type": "display_data"
    },
    {
     "name": "stdout",
     "output_type": "stream",
     "text": [
      "For 3 clusters we have the following graph based on custom code\n"
     ]
    },
    {
     "data": {
      "image/png": "[encoded data removed]",
      "text/plain": [
       "<Figure size 432x288 with 1 Axes>"
      ]
     },
     "metadata": {},
     "output_type": "display_data"
    },
    {
     "name": "stdout",
     "output_type": "stream",
     "text": [
      "For 3 clusters we have the following graph based on weighted ML code\n"
     ]
    },
    {
     "data": {
      "image/png": "[encoded data removed]",
      "text/plain": [
       "<Figure size 432x288 with 1 Axes>"
      ]
     },
     "metadata": {},
     "output_type": "display_data"
    },
    {
     "name": "stdout",
     "output_type": "stream",
     "text": [
      "For 4 clusters we have the following graph based on custom code\n"
     ]
    },
    {
     "data": {
      "image/png": "[encoded data removed]",
      "text/plain": [
       "<Figure size 432x288 with 1 Axes>"
      ]
     },
     "metadata": {},
     "output_type": "display_data"
    },
    {
     "name": "stdout",
     "output_type": "stream",
     "text": [
      "For 4 clusters we have the following graph based on weighted ML code\n"
     ]
    },
    {
     "data": {
      "image/png": "[encoded data removed]",
      "text/plain": [
       "<Figure size 432x288 with 1 Axes>"
      ]
     },
     "metadata": {},
     "output_type": "display_data"
    }
   ],
   "source": [
    "color = [\"red\", \"blue\", \"orange\", \"green\"]\n",
    "Best_loc_lat, Best_loc_long = custom()\n",
    "result, weight_list = ml_kmeans()\n",
    "for K in range(2,5):\n",
    "    clust=kcluster(data,distance=manhattan,k=K)\n",
    "    for i in range(K):\n",
    "        Lat_list = []\n",
    "        Long_list = []\n",
    "        location_list = clust[i]\n",
    "        #get list I needed\n",
    "        for j in range(len(location_list)):\n",
    "            one_loc = location_list[j]\n",
    "            Lat_list.append(store['Latitude'].iloc[one_loc]) \n",
    "            Long_list.append(store['Longitude'].iloc[one_loc])\n",
    "        plt.scatter(Long_list, Lat_list, c = color[i],marker=\".\")\n",
    "    l = K-2\n",
    "    #append the best dots on graph\n",
    "    for k in range(K):\n",
    "        mylat = Best_loc_lat[l][k]\n",
    "        mylong = Best_loc_long[l][k]\n",
    "        plt.scatter( mylong,mylat, c = [\"black\"],marker=\"o\")\n",
    "        \n",
    "    print(\"For\", K, \"clusters we have the following graph based on custom code\")    \n",
    "    plt.show()\n",
    "    #ML part\n",
    "    for j in range(K):\n",
    "        Lat_list = []\n",
    "        Long_list = []\n",
    "        totallong = 0\n",
    "        totallat = 0\n",
    "        totalcount = 0\n",
    "        for k in range(len(result[K-2])):\n",
    "            if result[K-2][k] == j:\n",
    "                Lat_list.append(unique[k][0])\n",
    "                Long_list.append(unique[k][1])\n",
    "                weight = weight_list[k]\n",
    "                totalcount += weight\n",
    "                totallat = totallat + unique[k][0] * weight\n",
    "                totallong = totallong + unique[k][1] * weight\n",
    "        mylat = totallat/totalcount\n",
    "        mylong = totallong/totalcount\n",
    "        plt.scatter(Long_list, Lat_list, c = color[j],marker=\".\")\n",
    "        plt.scatter(mylong , mylat, c = [\"black\"],marker=\"o\")\n",
    "    print(\"For\", K, \"clusters we have the following graph based on weighted ML code\")\n",
    "    plt.show()\n",
    "\n",
    "    \n",
    "                "
   ]
  },
  {
   "cell_type": "markdown",
   "metadata": {},
   "source": [
    "## Examples of cluster visualization in 2D"
   ]
  },
  {
   "cell_type": "markdown",
   "metadata": {},
   "source": [
    "Plotting original data:\n",
    "    \n",
    "<img src=\"clusters.png\">"
   ]
  },
  {
   "cell_type": "markdown",
   "metadata": {},
   "source": [
    "Plotting clusters with store locations\n",
    "<img src=\"locations.png\">"
   ]
  },
  {
   "cell_type": "markdown",
   "metadata": {},
   "source": [
    "Copyright &copy; 2022 Marina Barsky. All rights reserved."
   ]
  }
 ],
 "metadata": {
  "kernelspec": {
   "display_name": "Python 3",
   "language": "python",
   "name": "python3"
  },
  "language_info": {
   "codemirror_mode": {
    "name": "ipython",
    "version": 3
   },
   "file_extension": ".py",
   "mimetype": "text/x-python",
   "name": "python",
   "nbconvert_exporter": "python",
   "pygments_lexer": "ipython3",
   "version": "3.9.10"
  }
 },
 "nbformat": 4,
 "nbformat_minor": 4
}
